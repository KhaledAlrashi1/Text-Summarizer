{
 "cells": [
  {
   "cell_type": "markdown",
   "metadata": {},
   "source": [
    "## Text Summarizing and Translating \n",
    "* Using open-source LLMs from HuggingFace, we will summarize and translate text\n",
    "* Credits: DeepLearning.AI"
   ]
  },
  {
   "cell_type": "markdown",
   "metadata": {},
   "source": [
    "### Install necessary libraries\n",
    "```\n",
    "    !pip install transformers\n",
    "    !pip install torch\n",
    "```"
   ]
  },
  {
   "cell_type": "markdown",
   "metadata": {},
   "source": [
    "* Here is some code that suppresses warning messages."
   ]
  },
  {
   "cell_type": "code",
   "execution_count": 3,
   "metadata": {},
   "outputs": [],
   "source": [
    "from transformers.utils import logging\n",
    "logging.set_verbosity_error()"
   ]
  },
  {
   "cell_type": "markdown",
   "metadata": {},
   "source": [
    "### Build `Translation` pipeline using the Transformers library from HuggingFace"
   ]
  },
  {
   "cell_type": "code",
   "execution_count": 4,
   "metadata": {},
   "outputs": [],
   "source": [
    "from transformers import pipeline\n",
    "import torch"
   ]
  },
  {
   "cell_type": "code",
   "execution_count": 7,
   "metadata": {},
   "outputs": [
    {
     "name": "stderr",
     "output_type": "stream",
     "text": [
      "Downloading config.json: 100%|██████████| 846/846 [00:00<00:00, 2.02MB/s]\n",
      "Downloading pytorch_model.bin: 100%|██████████| 2.46G/2.46G [15:56<00:00, 2.57MB/s]\n",
      "Downloading generation_config.json: 100%|██████████| 189/189 [00:00<00:00, 1.33MB/s]\n",
      "Downloading tokenizer_config.json: 100%|██████████| 564/564 [00:00<00:00, 1.62MB/s]\n",
      "Downloading (…)tencepiece.bpe.model: 100%|██████████| 4.85M/4.85M [00:02<00:00, 1.84MB/s]\n",
      "Downloading tokenizer.json: 100%|██████████| 17.3M/17.3M [00:08<00:00, 1.99MB/s]\n",
      "Downloading (…)cial_tokens_map.json: 100%|██████████| 3.55k/3.55k [00:00<00:00, 31.1MB/s]\n"
     ]
    }
   ],
   "source": [
    "translator = pipeline(task='translation',\n",
    "                      model='facebook/nllb-200-distilled-600M',\n",
    "                      torch_dtype=torch.bfloat16)"
   ]
  },
  {
   "cell_type": "markdown",
   "metadata": {},
   "source": [
    "NLLB: No Language Left Behind: ['nllb-200-distilled-600M'](https://huggingface.co/facebook/nllb-200-distilled-600M)."
   ]
  },
  {
   "cell_type": "code",
   "execution_count": 13,
   "metadata": {},
   "outputs": [],
   "source": [
    "text = \"\"\"\\\n",
    "I want to run 5 kilometers. \\ \n",
    "I love reading books. \\\n",
    "My friend is an amazing athelte. \\\n",
    "My family has many problems. \\\n",
    "My personal development is very important to me!\n",
    "\"\"\""
   ]
  },
  {
   "cell_type": "code",
   "execution_count": 14,
   "metadata": {},
   "outputs": [],
   "source": [
    "text_translated = translator(text,\n",
    "                             src_lang='eng_latn',\n",
    "                             tgt_lang='arz_Arab')"
   ]
  },
  {
   "cell_type": "markdown",
   "metadata": {},
   "source": [
    "To choose other languages, you can find the other language codes on the page: [Languages in FLORES-200](https://github.com/facebookresearch/flores/blob/main/flores200/README.md#languages-in-flores-200)\n",
    "\n",
    "For example:\n",
    "- Afrikaans: afr_Latn\n",
    "- Chinese: zho_Hans\n",
    "- Egyptian Arabic: arz_Arab\n",
    "- French: fra_Latn\n",
    "- German: deu_Latn\n",
    "- Greek: ell_Grek\n",
    "- Hindi: hin_Deva\n",
    "- Indonesian: ind_Latn\n",
    "- Italian: ita_Latn\n",
    "- Japanese: jpn_Jpan\n",
    "- Korean: kor_Hang\n",
    "- Persian: pes_Arab\n",
    "- Portuguese: por_Latn\n",
    "- Russian: rus_Cyrl\n",
    "- Spanish: spa_Latn\n",
    "- Swahili: swh_Latn\n",
    "- Thai: tha_Thai\n",
    "- Turkish: tur_Latn\n",
    "- Vietnamese: vie_Latn\n",
    "- Zulu: zul_Latn"
   ]
  },
  {
   "cell_type": "code",
   "execution_count": 15,
   "metadata": {},
   "outputs": [
    {
     "data": {
      "text/plain": [
       "[{'translation_text': 'أُرِيدُ أَنْ أَجْرِيَ خَمْسَ كِيلُومَتَاتٍ. \\\\ أُحِبُّ قِرَاءَةَ كُتُبٍ. صَاحِبِي لَيْلٌ مُتَعَجِّبٌ. عَلَى عَائِلَتِي مَشَاكِلُ كَثِيرَةٌ. تَمَامِي ٱلْأَنْفُسِ أَمِينٌ جِدًّا لِي! '}]"
      ]
     },
     "execution_count": 15,
     "metadata": {},
     "output_type": "execute_result"
    }
   ],
   "source": [
    "text_translated"
   ]
  },
  {
   "cell_type": "markdown",
   "metadata": {},
   "source": [
    "## Free up some memory before continuing\n",
    "* In order to have enough free memory to run the rest of the code, please run the following to free up memory on the machine."
   ]
  },
  {
   "cell_type": "code",
   "execution_count": 16,
   "metadata": {},
   "outputs": [],
   "source": [
    "import gc"
   ]
  },
  {
   "cell_type": "code",
   "execution_count": 17,
   "metadata": {},
   "outputs": [],
   "source": [
    "del translator"
   ]
  },
  {
   "cell_type": "code",
   "execution_count": 18,
   "metadata": {},
   "outputs": [
    {
     "data": {
      "text/plain": [
       "1395"
      ]
     },
     "execution_count": 18,
     "metadata": {},
     "output_type": "execute_result"
    }
   ],
   "source": [
    "gc.collect()"
   ]
  },
  {
   "cell_type": "markdown",
   "metadata": {},
   "source": [
    "### Build the `summarization` pipeline using the Transformers library from HuggingFace"
   ]
  },
  {
   "cell_type": "code",
   "execution_count": 20,
   "metadata": {},
   "outputs": [
    {
     "name": "stderr",
     "output_type": "stream",
     "text": [
      "Downloading config.json: 100%|██████████| 1.58k/1.58k [00:00<00:00, 7.65MB/s]\n",
      "/Users/khaledalrashidi/anaconda3/envs/ee541_env/lib/python3.11/site-packages/transformers/utils/generic.py:260: UserWarning: torch.utils._pytree._register_pytree_node is deprecated. Please use torch.utils._pytree.register_pytree_node instead.\n",
      "  torch.utils._pytree._register_pytree_node(\n",
      "Downloading model.safetensors: 100%|██████████| 1.63G/1.63G [10:10<00:00, 2.66MB/s]\n",
      "Downloading generation_config.json: 100%|██████████| 363/363 [00:00<00:00, 3.19MB/s]\n",
      "Downloading vocab.json: 100%|██████████| 899k/899k [00:00<00:00, 1.32MB/s]\n",
      "Downloading merges.txt: 100%|██████████| 456k/456k [00:00<00:00, 894kB/s]\n",
      "Downloading tokenizer.json: 100%|██████████| 1.36M/1.36M [00:00<00:00, 1.42MB/s]\n"
     ]
    }
   ],
   "source": [
    "summarizer = pipeline(task='summarization',\n",
    "                      model='facebook/bart-large-cnn',\n",
    "                      torch_dtype=torch.bfloat16)"
   ]
  },
  {
   "cell_type": "markdown",
   "metadata": {},
   "source": [
    "Model info: ['bart-large-cnn'](https://huggingface.co/facebook/bart-large-cnn)"
   ]
  },
  {
   "cell_type": "code",
   "execution_count": 21,
   "metadata": {},
   "outputs": [],
   "source": [
    "text = \"\"\" Kuwait, officially the State of Kuwait, is a country in West Asia. \n",
    "It is situated in the northern edge of Eastern Arabia at the tip of the Persian \n",
    "Gulf, bordering Iraq to the north and Saudi Arabia to the south. Kuwait also \n",
    "shares maritime borders with Iran. Kuwait has a coastal length of approximately \n",
    "500 km (311 mi). Most of the country's population reside in the urban \n",
    "agglomeration of the capital and largest city Kuwait City. As of 2023, Kuwait has\n",
    "a population of 4.82 million people of which 1.53 million are Kuwaiti citizens \n",
    "while the remaining 3.29 million are foreign nationals from over 100 countries.\n",
    "Historically, most of present-day Kuwait was part of ancient Mesopotamia. Before \n",
    "the discovery of oil, Kuwait was a regional trade port. Oil reserves were discovered\n",
    "in commercial quantities in 1938. In 1946, crude oil was exported for the first \n",
    "time.[19][20] From 1946 to 1982, the country underwent large-scale modernization, \n",
    "largely based on income from oil production. In the 1980s, Kuwait experienced a \n",
    "period of geopolitical instability and an economic crisis following the stock \n",
    "market crash. In 1990, Kuwait was invaded and subsequently annexed by Iraq under \n",
    "the leadership of Saddam Hussein following disputes over oil production. The Iraqi\n",
    "occupation of Kuwait ended on 26 February 1991, following military intervention \n",
    "by a coalition led by the United States and several other nations.\"\"\""
   ]
  },
  {
   "cell_type": "code",
   "execution_count": 22,
   "metadata": {},
   "outputs": [],
   "source": [
    "summary = summarizer(text,\n",
    "                     min_length=10,\n",
    "                     max_length=100)"
   ]
  },
  {
   "cell_type": "code",
   "execution_count": 23,
   "metadata": {},
   "outputs": [
    {
     "data": {
      "text/plain": [
       "[{'summary_text': 'Kuwait, officially the State of Kuwait, is a country in West Asia. It is situated in the northern edge of Eastern Arabia at the tip of the Persian Gulf. Most of present-day Kuwait was part of ancient Mesopotamia. In 1990, Kuwait was invaded and subsequently annexed by Iraq.'}]"
      ]
     },
     "execution_count": 23,
     "metadata": {},
     "output_type": "execute_result"
    }
   ],
   "source": [
    "summary"
   ]
  },
  {
   "cell_type": "markdown",
   "metadata": {},
   "source": [
    "### Try it yourself!\n",
    "* Try this model with your own texts!"
   ]
  },
  {
   "cell_type": "code",
   "execution_count": null,
   "metadata": {},
   "outputs": [],
   "source": []
  }
 ],
 "metadata": {
  "kernelspec": {
   "display_name": "ee541_env",
   "language": "python",
   "name": "python3"
  },
  "language_info": {
   "codemirror_mode": {
    "name": "ipython",
    "version": 3
   },
   "file_extension": ".py",
   "mimetype": "text/x-python",
   "name": "python",
   "nbconvert_exporter": "python",
   "pygments_lexer": "ipython3",
   "version": "3.11.0"
  }
 },
 "nbformat": 4,
 "nbformat_minor": 2
}
