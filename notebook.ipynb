{
 "cells": [
  {
   "cell_type": "markdown",
   "metadata": {},
   "source": [
    "\n",
    "## Text Summarizer\n",
    "This notebook demonstrates how to use an open-source language model from HuggingFace to summarize text. The goal is to provide an easy-to-follow guide for setting up and using a translation pipeline.\n",
    "\n",
    "### Credits\n",
    "- DeepLearning.AI\n",
    "- HuggingFace\n"
   ]
  },
  {
   "cell_type": "markdown",
   "metadata": {},
   "source": [
    "\n",
    "### Install Necessary Libraries\n",
    "To get started, you need to install the required libraries. Run the following cell to install `transformers` and `torch`.\n",
    "\n",
    "```python\n",
    "!pip install transformers torch\n",
    "```\n"
   ]
  },
  {
   "cell_type": "markdown",
   "metadata": {},
   "source": [
    "\n",
    "### Suppress Warning Messages\n",
    "To keep the output clean, we will suppress warning messages using the following code:\n"
   ]
  },
  {
   "cell_type": "code",
   "execution_count": 11,
   "metadata": {},
   "outputs": [],
   "source": [
    "from transformers.utils import logging\n",
    "logging.set_verbosity_error()"
   ]
  },
  {
   "cell_type": "markdown",
   "metadata": {},
   "source": [
    "\n",
    "### Building the `Summarization` Pipeline\n",
    "In this section, we will build a Summarization pipeline using the Transformers library from HuggingFace. The pipeline will allow us to summarize a text.\n"
   ]
  },
  {
   "cell_type": "code",
   "execution_count": 13,
   "metadata": {},
   "outputs": [],
   "source": [
    "from transformers import pipeline\n",
    "import torch\n",
    "\n",
    "summarizer = pipeline(task='summarization',\n",
    "                      model='facebook/bart-large-cnn',\n",
    "                      torch_dtype=torch.bfloat16)\n"
   ]
  },
  {
   "cell_type": "markdown",
   "metadata": {},
   "source": [
    "Model info: ['bart-large-cnn'](https://huggingface.co/facebook/bart-large-cnn)"
   ]
  },
  {
   "cell_type": "code",
   "execution_count": 15,
   "metadata": {},
   "outputs": [],
   "source": [
    "text = \"\"\" Kuwait, officially the State of Kuwait, is a country in West Asia. \n",
    "It is situated in the northern edge of Eastern Arabia at the tip of the Persian \n",
    "Gulf, bordering Iraq to the north and Saudi Arabia to the south. Kuwait also \n",
    "shares maritime borders with Iran. Kuwait has a coastal length of approximately \n",
    "500 km (311 mi). Most of the country's population reside in the urban \n",
    "agglomeration of the capital and largest city Kuwait City. As of 2023, Kuwait has\n",
    "a population of 4.82 million people of which 1.53 million are Kuwaiti citizens \n",
    "while the remaining 3.29 million are foreign nationals from over 100 countries.\n",
    "Historically, most of present-day Kuwait was part of ancient Mesopotamia. Before \n",
    "the discovery of oil, Kuwait was a regional trade port. Oil reserves were discovered\n",
    "in commercial quantities in 1938. In 1946, crude oil was exported for the first \n",
    "time.[19][20] From 1946 to 1982, the country underwent large-scale modernization, \n",
    "largely based on income from oil production. In the 1980s, Kuwait experienced a \n",
    "period of geopolitical instability and an economic crisis following the stock \n",
    "market crash. In 1990, Kuwait was invaded and subsequently annexed by Iraq under \n",
    "the leadership of Saddam Hussein following disputes over oil production. The Iraqi\n",
    "occupation of Kuwait ended on 26 February 1991, following military intervention \n",
    "by a coalition led by the United States and several other nations.\"\"\""
   ]
  },
  {
   "cell_type": "code",
   "execution_count": 16,
   "metadata": {},
   "outputs": [],
   "source": [
    "summary = summarizer(text,\n",
    "                     min_length=10,\n",
    "                     max_length=100)"
   ]
  },
  {
   "cell_type": "code",
   "execution_count": 17,
   "metadata": {},
   "outputs": [
    {
     "data": {
      "text/plain": [
       "[{'summary_text': 'Kuwait, officially the State of Kuwait, is a country in West Asia. It is situated in the northern edge of Eastern Arabia at the tip of the Persian Gulf. Most of present-day Kuwait was part of ancient Mesopotamia. In 1990, Kuwait was invaded and subsequently annexed by Iraq.'}]"
      ]
     },
     "execution_count": 17,
     "metadata": {},
     "output_type": "execute_result"
    }
   ],
   "source": [
    "summary"
   ]
  },
  {
   "cell_type": "markdown",
   "metadata": {},
   "source": [
    "### Try it yourself!\n",
    "* Try this model with your own texts!"
   ]
  },
  {
   "cell_type": "code",
   "execution_count": null,
   "metadata": {},
   "outputs": [],
   "source": []
  }
 ],
 "metadata": {
  "language_info": {
   "name": "python"
  }
 },
 "nbformat": 4,
 "nbformat_minor": 2
}
