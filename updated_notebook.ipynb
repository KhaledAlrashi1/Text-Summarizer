{
 "cells": [
  {
   "cell_type": "markdown",
   "metadata": {},
   "source": [
    "\n",
    "## Text Translator\n",
    "This notebook demonstrates how to use an open-source language model from HuggingFace to summarize and translate text. The goal is to provide an easy-to-follow guide for setting up and using a translation pipeline.\n",
    "\n",
    "### Credits\n",
    "- DeepLearning.AI\n",
    "- HuggingFace\n"
   ]
  },
  {
   "cell_type": "markdown",
   "metadata": {},
   "source": [
    "\n",
    "### Install Necessary Libraries\n",
    "To get started, you need to install the required libraries. Run the following cell to install `transformers` and `torch`.\n",
    "\n",
    "```python\n",
    "!pip install transformers torch\n",
    "```\n"
   ]
  },
  {
   "cell_type": "markdown",
   "metadata": {},
   "source": [
    "\n",
    "### Suppress Warning Messages\n",
    "To keep the output clean, we will suppress warning messages using the following code:\n"
   ]
  },
  {
   "cell_type": "code",
   "execution_count": 1,
   "metadata": {},
   "outputs": [],
   "source": [
    "from transformers.utils import logging\n",
    "logging.set_verbosity_error()"
   ]
  },
  {
   "cell_type": "markdown",
   "metadata": {},
   "source": [
    "\n",
    "### Building the `Translation` Pipeline\n",
    "In this section, we will build a translation pipeline using the Transformers library from HuggingFace. The pipeline will allow us to translate text from one language to another.\n"
   ]
  },
  {
   "cell_type": "code",
   "execution_count": null,
   "id": "e0efb01f",
   "metadata": {},
   "outputs": [],
   "source": [
    "\n",
    "from transformers import pipeline\n",
    "\n",
    "# Load the translation pipeline\n",
    "translator = pipeline(\"translation_en_to_fr\")\n"
   ]
  },
  {
   "cell_type": "markdown",
   "id": "2c52c475",
   "metadata": {},
   "source": [
    "\n",
    "### Sample Usage\n",
    "Here, we demonstrate how to use the translation pipeline with a sample text and show the output.\n"
   ]
  },
  {
   "cell_type": "code",
   "execution_count": null,
   "id": "51bea537",
   "metadata": {},
   "outputs": [],
   "source": [
    "\n",
    "# Sample text for translation\n",
    "sample_text = \"Hello, how are you?\"\n",
    "\n",
    "# Translate the text\n",
    "translation = translator(sample_text)\n",
    "\n",
    "# Display the translation\n",
    "print(\"Original Text:\", sample_text)\n",
    "print(\"Translated Text:\", translation[0]['translation_text'])\n"
   ]
  },
  {
   "cell_type": "code",
   "execution_count": 20,
   "metadata": {},
   "outputs": [
    {
     "name": "stderr",
     "output_type": "stream",
     "text": [
      "Downloading config.json: 100%|██████████| 1.58k/1.58k [00:00<00:00, 7.65MB/s]\n",
      "/Users/khaledalrashidi/anaconda3/envs/ee541_env/lib/python3.11/site-packages/transformers/utils/generic.py:260: UserWarning: torch.utils._pytree._register_pytree_node is deprecated. Please use torch.utils._pytree.register_pytree_node instead.\n",
      "  torch.utils._pytree._register_pytree_node(\n",
      "Downloading model.safetensors: 100%|██████████| 1.63G/1.63G [10:10<00:00, 2.66MB/s]\n",
      "Downloading generation_config.json: 100%|██████████| 363/363 [00:00<00:00, 3.19MB/s]\n",
      "Downloading vocab.json: 100%|██████████| 899k/899k [00:00<00:00, 1.32MB/s]\n",
      "Downloading merges.txt: 100%|██████████| 456k/456k [00:00<00:00, 894kB/s]\n",
      "Downloading tokenizer.json: 100%|██████████| 1.36M/1.36M [00:00<00:00, 1.42MB/s]\n"
     ]
    }
   ],
   "source": [
    "summarizer = pipeline(task='summarization',\n",
    "                      model='facebook/bart-large-cnn',\n",
    "                      torch_dtype=torch.bfloat16)"
   ]
  },
  {
   "cell_type": "markdown",
   "metadata": {},
   "source": [
    "Model info: ['bart-large-cnn'](https://huggingface.co/facebook/bart-large-cnn)"
   ]
  },
  {
   "cell_type": "code",
   "execution_count": 21,
   "metadata": {},
   "outputs": [],
   "source": [
    "text = \"\"\" Kuwait, officially the State of Kuwait, is a country in West Asia. \n",
    "It is situated in the northern edge of Eastern Arabia at the tip of the Persian \n",
    "Gulf, bordering Iraq to the north and Saudi Arabia to the south. Kuwait also \n",
    "shares maritime borders with Iran. Kuwait has a coastal length of approximately \n",
    "500 km (311 mi). Most of the country's population reside in the urban \n",
    "agglomeration of the capital and largest city Kuwait City. As of 2023, Kuwait has\n",
    "a population of 4.82 million people of which 1.53 million are Kuwaiti citizens \n",
    "while the remaining 3.29 million are foreign nationals from over 100 countries.\n",
    "Historically, most of present-day Kuwait was part of ancient Mesopotamia. Before \n",
    "the discovery of oil, Kuwait was a regional trade port. Oil reserves were discovered\n",
    "in commercial quantities in 1938. In 1946, crude oil was exported for the first \n",
    "time.[19][20] From 1946 to 1982, the country underwent large-scale modernization, \n",
    "largely based on income from oil production. In the 1980s, Kuwait experienced a \n",
    "period of geopolitical instability and an economic crisis following the stock \n",
    "market crash. In 1990, Kuwait was invaded and subsequently annexed by Iraq under \n",
    "the leadership of Saddam Hussein following disputes over oil production. The Iraqi\n",
    "occupation of Kuwait ended on 26 February 1991, following military intervention \n",
    "by a coalition led by the United States and several other nations.\"\"\""
   ]
  },
  {
   "cell_type": "code",
   "execution_count": 22,
   "metadata": {},
   "outputs": [],
   "source": [
    "summary = summarizer(text,\n",
    "                     min_length=10,\n",
    "                     max_length=100)"
   ]
  },
  {
   "cell_type": "code",
   "execution_count": 23,
   "metadata": {},
   "outputs": [
    {
     "data": {
      "text/plain": [
       "[{'summary_text': 'Kuwait, officially the State of Kuwait, is a country in West Asia. It is situated in the northern edge of Eastern Arabia at the tip of the Persian Gulf. Most of present-day Kuwait was part of ancient Mesopotamia. In 1990, Kuwait was invaded and subsequently annexed by Iraq.'}]"
      ]
     },
     "execution_count": 23,
     "metadata": {},
     "output_type": "execute_result"
    }
   ],
   "source": [
    "summary"
   ]
  },
  {
   "cell_type": "markdown",
   "metadata": {},
   "source": [
    "### Try it yourself!\n",
    "* Try this model with your own texts!"
   ]
  },
  {
   "cell_type": "code",
   "execution_count": null,
   "metadata": {},
   "outputs": [],
   "source": []
  }
 ],
 "metadata": {
  "kernelspec": {
   "display_name": "ee541_env",
   "language": "python",
   "name": "python3"
  },
  "language_info": {
   "codemirror_mode": {
    "name": "ipython",
    "version": 3
   },
   "file_extension": ".py",
   "mimetype": "text/x-python",
   "name": "python",
   "nbconvert_exporter": "python",
   "pygments_lexer": "ipython3",
   "version": "3.11.0"
  }
 },
 "nbformat": 4,
 "nbformat_minor": 2
}
